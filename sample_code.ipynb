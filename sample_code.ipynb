{
 "cells": [
  {
   "cell_type": "code",
   "execution_count": null,
   "id": "10e7cc0f",
   "metadata": {},
   "outputs": [],
   "source": [
    "from sklearn.svm import SVR\n",
    "from sklearn.metrics import mean_absolute_error, mean_squared_error\n",
    "from sklearn.preprocessing import StandardScaler\n",
    "from sklearn.model_selection import train_test_split, KFold\n",
    "import numpy as np\n",
    "import pandas as pd"
   ]
  },
  {
   "cell_type": "code",
   "execution_count": null,
   "id": "44a77d51",
   "metadata": {},
   "outputs": [],
   "source": [
    "param = {\n",
    "        'C': 10, \n",
    "        'epsilon':  0.001,\n",
    "        'kernel': 'rbf'\n",
    "    }\n",
    "\n",
    "kf = KFold(n_splits=5, shuffle=True, random_state=42)\n",
    "mae_per_fold = []\n",
    "\n",
    "for train_idx, val_idx in kf.split(X_train):\n",
    "    X_tr, X_val = X_train[train_idx], X_train[val_idx]\n",
    "    y_tr, y_val = y_train[train_idx], y_train[val_idx]\n",
    "\n",
    "    model = SVR(**param)\n",
    "    model.fit(X_tr, y_tr)\n",
    "\n",
    "    y_pred = model.predict(X_val)\n",
    "    y_pred_original_scale = scaler_y.inverse_transform(y_pred.reshape(-1, 1)).ravel()\n",
    "    y_val_original_scale = scaler_y.inverse_transform(y_val.reshape(-1, 1)).ravel()\n",
    "    mae = mean_absolute_error(y_val_original_scale, y_pred_original_scale)\n",
    "    mae_per_fold.append(mae)"
   ]
  }
 ],
 "metadata": {
  "language_info": {
   "name": "python"
  }
 },
 "nbformat": 4,
 "nbformat_minor": 5
}
